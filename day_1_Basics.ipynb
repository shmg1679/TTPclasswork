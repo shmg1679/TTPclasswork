{
  "nbformat": 4,
  "nbformat_minor": 0,
  "metadata": {
    "colab": {
      "name": "day 1 Basics.ipynb",
      "provenance": [],
      "collapsed_sections": [],
      "authorship_tag": "ABX9TyNuSIKkESP8NfNtSjvLl46Q",
      "include_colab_link": true
    },
    "kernelspec": {
      "name": "python3",
      "display_name": "Python 3"
    },
    "language_info": {
      "name": "python"
    }
  },
  "cells": [
    {
      "cell_type": "markdown",
      "metadata": {
        "id": "view-in-github",
        "colab_type": "text"
      },
      "source": [
        "<a href=\"https://colab.research.google.com/github/shmg1679/newtest/blob/main/day_1_Basics.ipynb\" target=\"_parent\"><img src=\"https://colab.research.google.com/assets/colab-badge.svg\" alt=\"Open In Colab\"/></a>"
      ]
    },
    {
      "cell_type": "markdown",
      "source": [
        "#hello python"
      ],
      "metadata": {
        "id": "NtiGttPH0Hpv"
      }
    },
    {
      "cell_type": "code",
      "execution_count": 20,
      "metadata": {
        "colab": {
          "base_uri": "https://localhost:8080/"
        },
        "id": "j9HV8BrPhP51",
        "outputId": "7294ef1a-e485-4821-bc86-04e0484ef57b"
      },
      "outputs": [
        {
          "output_type": "stream",
          "name": "stdout",
          "text": [
            "Hello There\n"
          ]
        }
      ],
      "source": [
        "print('Hello There')"
      ]
    },
    {
      "cell_type": "code",
      "source": [
        "import this"
      ],
      "metadata": {
        "id": "EnMoAdKUimev"
      },
      "execution_count": 21,
      "outputs": []
    },
    {
      "cell_type": "markdown",
      "source": [
        "#string basics"
      ],
      "metadata": {
        "id": "ONB9Y8fl0jEB"
      }
    },
    {
      "cell_type": "code",
      "source": [
        "#ctrl mm to make the bold word string above"
      ],
      "metadata": {
        "id": "ZrYeFHrM3sBm"
      },
      "execution_count": 22,
      "outputs": []
    },
    {
      "cell_type": "code",
      "source": [
        "'this is a string'"
      ],
      "metadata": {
        "colab": {
          "base_uri": "https://localhost:8080/",
          "height": 35
        },
        "id": "N_NSrRFJ1UnW",
        "outputId": "e5ceca40-0809-4d7b-eecd-e3a97eae9b49"
      },
      "execution_count": 23,
      "outputs": [
        {
          "output_type": "execute_result",
          "data": {
            "application/vnd.google.colaboratory.intrinsic+json": {
              "type": "string"
            },
            "text/plain": [
              "'this is a string'"
            ]
          },
          "metadata": {},
          "execution_count": 23
        }
      ]
    },
    {
      "cell_type": "code",
      "source": [
        "'this is another string'"
      ],
      "metadata": {
        "colab": {
          "base_uri": "https://localhost:8080/",
          "height": 35
        },
        "id": "ylS_rgTR0m4R",
        "outputId": "28e6b040-8c2a-4ad7-ff6f-979c0df8b40c"
      },
      "execution_count": 24,
      "outputs": [
        {
          "output_type": "execute_result",
          "data": {
            "application/vnd.google.colaboratory.intrinsic+json": {
              "type": "string"
            },
            "text/plain": [
              "'this is another string'"
            ]
          },
          "metadata": {},
          "execution_count": 24
        }
      ]
    },
    {
      "cell_type": "code",
      "source": [
        "'third string'"
      ],
      "metadata": {
        "colab": {
          "base_uri": "https://localhost:8080/",
          "height": 35
        },
        "id": "KQwwdzLU0mxf",
        "outputId": "c43efa5d-a5ad-49f6-8c89-d8b228f0cba1"
      },
      "execution_count": 25,
      "outputs": [
        {
          "output_type": "execute_result",
          "data": {
            "application/vnd.google.colaboratory.intrinsic+json": {
              "type": "string"
            },
            "text/plain": [
              "'third string'"
            ]
          },
          "metadata": {},
          "execution_count": 25
        }
      ]
    },
    {
      "cell_type": "code",
      "source": [
        "'forth string'"
      ],
      "metadata": {
        "colab": {
          "base_uri": "https://localhost:8080/",
          "height": 35
        },
        "id": "-ViVi_c20mrM",
        "outputId": "f0c9b0bc-d163-4523-818f-fc7a19b4de46"
      },
      "execution_count": 26,
      "outputs": [
        {
          "output_type": "execute_result",
          "data": {
            "application/vnd.google.colaboratory.intrinsic+json": {
              "type": "string"
            },
            "text/plain": [
              "'forth string'"
            ]
          },
          "metadata": {},
          "execution_count": 26
        }
      ]
    },
    {
      "cell_type": "code",
      "source": [
        "'last string'"
      ],
      "metadata": {
        "colab": {
          "base_uri": "https://localhost:8080/",
          "height": 35
        },
        "id": "i5AlQe7I0iym",
        "outputId": "37ea8301-b39b-4cb3-bb0f-28ccae3af6e9"
      },
      "execution_count": 27,
      "outputs": [
        {
          "output_type": "execute_result",
          "data": {
            "application/vnd.google.colaboratory.intrinsic+json": {
              "type": "string"
            },
            "text/plain": [
              "'last string'"
            ]
          },
          "metadata": {},
          "execution_count": 27
        }
      ]
    },
    {
      "cell_type": "code",
      "source": [
        "len('this is another string')"
      ],
      "metadata": {
        "colab": {
          "base_uri": "https://localhost:8080/"
        },
        "id": "bhGyA5lS0-rd",
        "outputId": "65f1f678-3779-4e25-9c83-cd5934015ce4"
      },
      "execution_count": 28,
      "outputs": [
        {
          "output_type": "execute_result",
          "data": {
            "text/plain": [
              "22"
            ]
          },
          "metadata": {},
          "execution_count": 28
        }
      ]
    },
    {
      "cell_type": "code",
      "source": [
        "s = 'This is a string'"
      ],
      "metadata": {
        "id": "vfTlTl1K05nZ"
      },
      "execution_count": 29,
      "outputs": []
    },
    {
      "cell_type": "code",
      "source": [
        "len(s)"
      ],
      "metadata": {
        "colab": {
          "base_uri": "https://localhost:8080/"
        },
        "id": "POiJaRLD05km",
        "outputId": "a5623625-d8ac-4368-83b0-7dc0155d99b9"
      },
      "execution_count": 30,
      "outputs": [
        {
          "output_type": "execute_result",
          "data": {
            "text/plain": [
              "16"
            ]
          },
          "metadata": {},
          "execution_count": 30
        }
      ]
    },
    {
      "cell_type": "code",
      "source": [
        "'general kenobi'\n",
        "g = 'general kenobi'\n",
        "len('General Kenobi')\n",
        "len(g) #will only run the last line of code"
      ],
      "metadata": {
        "colab": {
          "base_uri": "https://localhost:8080/"
        },
        "id": "cxgjb7lz05fJ",
        "outputId": "042c8283-4894-4bfd-fe27-b318f4033689"
      },
      "execution_count": 31,
      "outputs": [
        {
          "output_type": "execute_result",
          "data": {
            "text/plain": [
              "14"
            ]
          },
          "metadata": {},
          "execution_count": 31
        }
      ]
    },
    {
      "cell_type": "markdown",
      "source": [
        "## string indexing\n",
        "Python can use indexing to call parts of the sequence. Let's learn how this works.\n",
        "In Python, we use brackets[] after an object to call its index. We should also note that indexing starts at 0 for Python. Let's create a new object called s and the walk through a few examples of indexing."
      ],
      "metadata": {
        "id": "FCNOo4Mt100d"
      }
    },
    {
      "cell_type": "code",
      "source": [
        "#print the object\n",
        "print(s)"
      ],
      "metadata": {
        "colab": {
          "base_uri": "https://localhost:8080/"
        },
        "id": "LVnyrRRG2XDv",
        "outputId": "908aa825-7264-49e1-a70a-dc0bd6683a68"
      },
      "execution_count": 32,
      "outputs": [
        {
          "output_type": "stream",
          "name": "stdout",
          "text": [
            "This is a string\n"
          ]
        }
      ]
    },
    {
      "cell_type": "code",
      "source": [
        "#show first element (in this case a letter)\n",
        "s[0]"
      ],
      "metadata": {
        "colab": {
          "base_uri": "https://localhost:8080/",
          "height": 35
        },
        "id": "IoG-uiBB2W_O",
        "outputId": "6a85d555-b6f8-4a99-ffad-445c1aa3967a"
      },
      "execution_count": 33,
      "outputs": [
        {
          "output_type": "execute_result",
          "data": {
            "application/vnd.google.colaboratory.intrinsic+json": {
              "type": "string"
            },
            "text/plain": [
              "'T'"
            ]
          },
          "metadata": {},
          "execution_count": 33
        }
      ]
    },
    {
      "cell_type": "code",
      "source": [
        "#show second element in (this case a letter)\n",
        "s[1]"
      ],
      "metadata": {
        "colab": {
          "base_uri": "https://localhost:8080/",
          "height": 35
        },
        "id": "SMqiafmX10xR",
        "outputId": "52e4e4c6-682d-4508-fbb9-d8ed9a82cc05"
      },
      "execution_count": 34,
      "outputs": [
        {
          "output_type": "execute_result",
          "data": {
            "application/vnd.google.colaboratory.intrinsic+json": {
              "type": "string"
            },
            "text/plain": [
              "'h'"
            ]
          },
          "metadata": {},
          "execution_count": 34
        }
      ]
    },
    {
      "cell_type": "code",
      "source": [
        "s[4]"
      ],
      "metadata": {
        "colab": {
          "base_uri": "https://localhost:8080/",
          "height": 35
        },
        "id": "J1FAcULB10uh",
        "outputId": "d2f538bd-d0a2-4043-9bc9-7557aeb7ae2c"
      },
      "execution_count": 35,
      "outputs": [
        {
          "output_type": "execute_result",
          "data": {
            "application/vnd.google.colaboratory.intrinsic+json": {
              "type": "string"
            },
            "text/plain": [
              "' '"
            ]
          },
          "metadata": {},
          "execution_count": 35
        }
      ]
    },
    {
      "cell_type": "markdown",
      "source": [
        "##concatenation of string's"
      ],
      "metadata": {
        "id": "5GM97iNRcOQq"
      }
    },
    {
      "cell_type": "code",
      "source": [
        "greeting=\"hello\"\n",
        "name=\" mark\"\n",
        "print(greeting + name)\n",
        "print(greeting+\" \"+name)\n",
        "print(greeting+\" \"+str(7))"
      ],
      "metadata": {
        "colab": {
          "base_uri": "https://localhost:8080/"
        },
        "id": "Zkdhc51hcOMv",
        "outputId": "f892a143-7edd-4e26-fb44-63b6493892b5"
      },
      "execution_count": 38,
      "outputs": [
        {
          "output_type": "stream",
          "name": "stdout",
          "text": [
            "hello mark\n",
            "hello  mark\n",
            "hello 7\n"
          ]
        }
      ]
    },
    {
      "cell_type": "markdown",
      "source": [
        "#input function"
      ],
      "metadata": {
        "id": "nE1UEaDA1qOb"
      }
    },
    {
      "cell_type": "code",
      "source": [
        "greeting = \"hello \"\n",
        "name =input(\"what is your sweet name: \")\n",
        "print(greeting + name)"
      ],
      "metadata": {
        "colab": {
          "base_uri": "https://localhost:8080/"
        },
        "id": "1T3nYhpddTiG",
        "outputId": "056393de-a037-44a3-eaa5-59e0ab2f8de4"
      },
      "execution_count": 43,
      "outputs": [
        {
          "output_type": "stream",
          "name": "stdout",
          "text": [
            "what is your sweet name: PogO\n",
            "hello PogO\n"
          ]
        }
      ]
    },
    {
      "cell_type": "code",
      "source": [
        "name"
      ],
      "metadata": {
        "colab": {
          "base_uri": "https://localhost:8080/",
          "height": 35
        },
        "id": "bEBuRvL0dTf0",
        "outputId": "0826418c-4dcf-446a-c1b4-13b8ea42fc31"
      },
      "execution_count": 44,
      "outputs": [
        {
          "output_type": "execute_result",
          "data": {
            "application/vnd.google.colaboratory.intrinsic+json": {
              "type": "string"
            },
            "text/plain": [
              "'PogO'"
            ]
          },
          "metadata": {},
          "execution_count": 44
        }
      ]
    },
    {
      "cell_type": "code",
      "source": [
        "'''\n",
        "task:\n",
        "  1. ask the user for name, age, and city.\n",
        "  2. print out a greeting for it\n",
        "\n",
        "'''"
      ],
      "metadata": {
        "colab": {
          "base_uri": "https://localhost:8080/",
          "height": 35
        },
        "id": "Z9Z48NRwdTdH",
        "outputId": "dd93c8d1-a274-49df-b884-1382dd3cdc3e"
      },
      "execution_count": 45,
      "outputs": [
        {
          "output_type": "execute_result",
          "data": {
            "application/vnd.google.colaboratory.intrinsic+json": {
              "type": "string"
            },
            "text/plain": [
              "'\\ntask:\\n  1. ask the user for name, age, and city.\\n  2. print out a greeting for it\\n\\n'"
            ]
          },
          "metadata": {},
          "execution_count": 45
        }
      ]
    },
    {
      "cell_type": "code",
      "source": [
        "greeting = \"Hello \"\n",
        "name=input(\"What is your name: \")\n",
        "age=input(\"How old are you: \")\n",
        "city=input(\"Which city are you from: \")\n",
        "print(greeting+name+\" from \"+city+\" you're \"+age+\" years old as of today.\")\n",
        "print(f'hello there ,{name}, you look great for a person of {age},and you are from {city} which is excellent.')\n",
        "print('hello there, {},you look great for a person of {}, and you are from, {}, which is excellent.'.format(name,age,city))"
      ],
      "metadata": {
        "colab": {
          "base_uri": "https://localhost:8080/"
        },
        "id": "sm42z9-J1qCm",
        "outputId": "841d874a-1cf0-48d2-bf54-132e0b6a2b78"
      },
      "execution_count": 51,
      "outputs": [
        {
          "output_type": "stream",
          "name": "stdout",
          "text": [
            "What is your name: blah\n",
            "How old are you: blah\n",
            "Which city are you from: blah\n",
            "Hello blah from blah you're blah years old as of today.\n",
            "hello there ,blah, you look great for a person of blah,and you are from blah which is excellent.\n",
            "hello there,blah,you look great for a person of,blah,and you are from,blah,which is excellent.\n"
          ]
        }
      ]
    },
    {
      "cell_type": "code",
      "source": [
        "print(\"The colors are {} {} {} \".format(\"Red\",\"green\",\"blue\"))"
      ],
      "metadata": {
        "colab": {
          "base_uri": "https://localhost:8080/"
        },
        "id": "QEuuOc76i4Kf",
        "outputId": "4881b156-0671-4dbf-b9b6-0d85eb9b7a51"
      },
      "execution_count": 52,
      "outputs": [
        {
          "output_type": "stream",
          "name": "stdout",
          "text": [
            "The colors are Red green blue \n"
          ]
        }
      ]
    },
    {
      "cell_type": "code",
      "source": [
        "print(\"The colors are {0} {1} {2} \".format(\"Red\",\"green\",\"blue\"))"
      ],
      "metadata": {
        "colab": {
          "base_uri": "https://localhost:8080/"
        },
        "id": "uP2ma-GYhp1B",
        "outputId": "6bc151b6-248e-4274-c8b3-0d6fd17af764"
      },
      "execution_count": 53,
      "outputs": [
        {
          "output_type": "stream",
          "name": "stdout",
          "text": [
            "The colors are Red green blue \n"
          ]
        }
      ]
    },
    {
      "cell_type": "code",
      "source": [
        "print(\"The colors are {0} {0} {0} \".format(\"Red\",\"green\",\"blue\"))"
      ],
      "metadata": {
        "colab": {
          "base_uri": "https://localhost:8080/"
        },
        "id": "dCidrmUOhpmK",
        "outputId": "30732822-3f67-483e-96e0-adca08c039f8"
      },
      "execution_count": 54,
      "outputs": [
        {
          "output_type": "stream",
          "name": "stdout",
          "text": [
            "The colors are Red Red Red \n"
          ]
        }
      ]
    },
    {
      "cell_type": "code",
      "source": [
        "print(\"The colors are {2} {2} {2} \".format(\"Red\",\"green\",\"blue\"))"
      ],
      "metadata": {
        "colab": {
          "base_uri": "https://localhost:8080/"
        },
        "id": "raPWdOzRhpZ1",
        "outputId": "05020f41-fd2b-45f3-cb53-7060adbb76f3"
      },
      "execution_count": 55,
      "outputs": [
        {
          "output_type": "stream",
          "name": "stdout",
          "text": [
            "The colors are blue blue blue \n"
          ]
        }
      ]
    },
    {
      "cell_type": "code",
      "source": [
        "print(\"The colors are {r} {g} {b} \".format(r=\"Red\",g=\"green\",b=\"blue\"))"
      ],
      "metadata": {
        "colab": {
          "base_uri": "https://localhost:8080/"
        },
        "id": "Hz2Ccf0nhpQw",
        "outputId": "371a4c95-d90a-4be8-8649-0c6625340a36"
      },
      "execution_count": 57,
      "outputs": [
        {
          "output_type": "stream",
          "name": "stdout",
          "text": [
            "The colors are Red green blue \n"
          ]
        }
      ]
    },
    {
      "cell_type": "markdown",
      "source": [
        "#numbers"
      ],
      "metadata": {
        "id": "j2TM8MiaiWcr"
      }
    },
    {
      "cell_type": "code",
      "source": [
        "a=14\n",
        "print(a)"
      ],
      "metadata": {
        "colab": {
          "base_uri": "https://localhost:8080/"
        },
        "id": "WSY3rC1niWR2",
        "outputId": "7896728d-ac21-4bbf-cb78-c424512a7cfb"
      },
      "execution_count": 58,
      "outputs": [
        {
          "output_type": "stream",
          "name": "stdout",
          "text": [
            "14\n"
          ]
        }
      ]
    },
    {
      "cell_type": "code",
      "source": [
        "b=4\n",
        "print(b)"
      ],
      "metadata": {
        "colab": {
          "base_uri": "https://localhost:8080/"
        },
        "id": "9A6OcfAjhpLE",
        "outputId": "9b51353b-bf2b-438f-f70b-8824803be858"
      },
      "execution_count": 59,
      "outputs": [
        {
          "output_type": "stream",
          "name": "stdout",
          "text": [
            "4\n"
          ]
        }
      ]
    },
    {
      "cell_type": "code",
      "source": [
        "print(a+b)#print sum"
      ],
      "metadata": {
        "colab": {
          "base_uri": "https://localhost:8080/"
        },
        "id": "Svv_57APhpIM",
        "outputId": "0a2393d6-613c-4b30-9fbd-0b86c90b0cc6"
      },
      "execution_count": 65,
      "outputs": [
        {
          "output_type": "stream",
          "name": "stdout",
          "text": [
            "18\n"
          ]
        }
      ]
    },
    {
      "cell_type": "code",
      "source": [
        "print(a-b)#print difference"
      ],
      "metadata": {
        "colab": {
          "base_uri": "https://localhost:8080/"
        },
        "id": "-SPto2jbhpEq",
        "outputId": "be70c2f0-e488-4def-f003-83d3afd72476"
      },
      "execution_count": 66,
      "outputs": [
        {
          "output_type": "stream",
          "name": "stdout",
          "text": [
            "10\n"
          ]
        }
      ]
    },
    {
      "cell_type": "code",
      "source": [
        "print(a*b)#print product"
      ],
      "metadata": {
        "colab": {
          "base_uri": "https://localhost:8080/"
        },
        "id": "sko7bXFChpBs",
        "outputId": "b8e12cbc-99a0-44d4-f8c1-466d103f7fcc"
      },
      "execution_count": 67,
      "outputs": [
        {
          "output_type": "stream",
          "name": "stdout",
          "text": [
            "56\n"
          ]
        }
      ]
    },
    {
      "cell_type": "code",
      "source": [
        "print(a/b)#print quotient"
      ],
      "metadata": {
        "colab": {
          "base_uri": "https://localhost:8080/"
        },
        "id": "bCjuopqXjtcX",
        "outputId": "9eb3e9b9-a3c1-45ac-d700-b18486b31c1b"
      },
      "execution_count": 68,
      "outputs": [
        {
          "output_type": "stream",
          "name": "stdout",
          "text": [
            "3.5\n"
          ]
        }
      ]
    },
    {
      "cell_type": "code",
      "source": [
        "print(a//b)#print cut remainder"
      ],
      "metadata": {
        "colab": {
          "base_uri": "https://localhost:8080/"
        },
        "id": "_fxAdb4jjtXo",
        "outputId": "ae865e88-2413-49b2-9cae-f586a95781a7"
      },
      "execution_count": 72,
      "outputs": [
        {
          "output_type": "stream",
          "name": "stdout",
          "text": [
            "3\n"
          ]
        }
      ]
    },
    {
      "cell_type": "code",
      "source": [
        "print(a%b)#print mod or remainder"
      ],
      "metadata": {
        "colab": {
          "base_uri": "https://localhost:8080/"
        },
        "id": "FuKZ7NsgjtU9",
        "outputId": "777cf4cf-2672-478f-8f20-1461790a617e"
      },
      "execution_count": 73,
      "outputs": [
        {
          "output_type": "stream",
          "name": "stdout",
          "text": [
            "2\n"
          ]
        }
      ]
    },
    {
      "cell_type": "code",
      "source": [
        ""
      ],
      "metadata": {
        "id": "iEAWwViZjtRl"
      },
      "execution_count": null,
      "outputs": []
    },
    {
      "cell_type": "code",
      "source": [
        ""
      ],
      "metadata": {
        "id": "EGPCrMbGjtOH"
      },
      "execution_count": null,
      "outputs": []
    },
    {
      "cell_type": "code",
      "source": [
        ""
      ],
      "metadata": {
        "id": "d5pxDfHijtJ0"
      },
      "execution_count": null,
      "outputs": []
    },
    {
      "cell_type": "code",
      "source": [
        ""
      ],
      "metadata": {
        "id": "T8boYk8ujtEo"
      },
      "execution_count": null,
      "outputs": []
    }
  ]
}